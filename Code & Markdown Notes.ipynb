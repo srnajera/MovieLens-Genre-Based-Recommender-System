{
 "cells": [
  {
   "cell_type": "markdown",
   "id": "bf08996a",
   "metadata": {},
   "source": [
    "## 10.2 Exercise: Recommender System"
   ]
  },
  {
   "cell_type": "markdown",
   "id": "d55b3057",
   "metadata": {},
   "source": [
    "### Data Loading: \n",
    "The small MovieLens dataset includes files for movies (with titles and genres) and ratings."
   ]
  },
  {
   "cell_type": "code",
   "execution_count": 11,
   "id": "a7d4130a",
   "metadata": {},
   "outputs": [],
   "source": [
    "# Import necessary libraries\n",
    "from zipfile import ZipFile\n",
    "import os\n",
    "import pandas as pd\n",
    "from sklearn.feature_extraction.text import TfidfVectorizer\n",
    "from sklearn.metrics.pairwise import linear_kernel"
   ]
  },
  {
   "cell_type": "code",
   "execution_count": 12,
   "id": "a7883433",
   "metadata": {},
   "outputs": [],
   "source": [
    "# Define the path where the extracted CSV files are located\n",
    "extract_to_path = r\"C:\\Users\\salin\\OneDrive\\Desktop\\DSC630 Predictive Analytics\\Week 10 - Recommender Systems\"\n",
    "\n",
    "# Load movies and ratings data\n",
    "movies_df = pd.read_csv(os.path.join(extract_to_path, 'movies.csv'))\n",
    "ratings_df = pd.read_csv(os.path.join(extract_to_path, 'ratings.csv'))"
   ]
  },
  {
   "cell_type": "markdown",
   "id": "eb69c41e",
   "metadata": {},
   "source": [
    "### Preprocessing: \n",
    "Prepare the data by merging movie titles with their ratings and extracting relevant features. I used movie genres as the primary feature."
   ]
  },
  {
   "cell_type": "code",
   "execution_count": 13,
   "id": "7c93b230",
   "metadata": {},
   "outputs": [],
   "source": [
    "# Preprocess movie genres for vectorization\n",
    "tfidf = TfidfVectorizer(stop_words='english')\n",
    "movies_df['genres'] = movies_df['genres'].str.replace('|', ' ', regex=True)\n",
    "tfidf_matrix = tfidf.fit_transform(movies_df['genres'])\n"
   ]
  },
  {
   "cell_type": "markdown",
   "id": "b7f1b967",
   "metadata": {},
   "source": [
    "### Similarity Measure: \n",
    "Compute a similarity score between movies. This is done using cosine similarity on the genres, where each genre is treated as a vector dimension."
   ]
  },
  {
   "cell_type": "code",
   "execution_count": 14,
   "id": "d22da87d",
   "metadata": {},
   "outputs": [],
   "source": [
    "# Compute cosine similarity matrix\n",
    "cosine_sim = linear_kernel(tfidf_matrix, tfidf_matrix)"
   ]
  },
  {
   "cell_type": "code",
   "execution_count": 15,
   "id": "0d5d8e26",
   "metadata": {},
   "outputs": [],
   "source": [
    "# Create a reverse map of indices and movie titles\n",
    "indices = pd.Series(movies_df.index, index=movies_df['title']).drop_duplicates()\n"
   ]
  },
  {
   "cell_type": "markdown",
   "id": "e95f496f",
   "metadata": {},
   "source": [
    "### Recommendations: \n",
    "For a given movie input by the user, find the top 10 movies with the highest similarity scores (excluding the movie itself)."
   ]
  },
  {
   "cell_type": "code",
   "execution_count": 16,
   "id": "864c6173",
   "metadata": {},
   "outputs": [],
   "source": [
    "# Function to get recommendations\n",
    "def get_recommendations(title, cosine_sim=cosine_sim):\n",
    "    # Get the index of the movie that matches the title\n",
    "    idx = indices[title]\n",
    "\n",
    "    # Get the pairwise similarity scores of all movies with that movie\n",
    "    sim_scores = list(enumerate(cosine_sim[idx]))\n",
    "\n",
    "    # Sort the movies based on the similarity scores\n",
    "    sim_scores = sorted(sim_scores, key=lambda x: x[1], reverse=True)\n",
    "\n",
    "    # Get the scores of the 10 most similar movies\n",
    "    sim_scores = sim_scores[1:11]\n",
    "\n",
    "    # Get the movie indices\n",
    "    movie_indices = [i[0] for i in sim_scores]\n",
    "\n",
    "    # Return the top 10 most similar movies\n",
    "    return movies_df['title'].iloc[movie_indices]"
   ]
  },
  {
   "cell_type": "markdown",
   "id": "00d21e1e",
   "metadata": {},
   "source": [
    "### Output: \n",
    "Present the recommended movies to the user."
   ]
  },
  {
   "cell_type": "code",
   "execution_count": 17,
   "id": "287f2f41",
   "metadata": {
    "scrolled": false
   },
   "outputs": [
    {
     "name": "stdout",
     "output_type": "stream",
     "text": [
      "53                     Indian in the Cupboard, The (1995)\n",
      "109                     NeverEnding Story III, The (1994)\n",
      "767                       Escape to Witch Mountain (1975)\n",
      "1514            Darby O'Gill and the Little People (1959)\n",
      "1556                                  Return to Oz (1985)\n",
      "1617                        NeverEnding Story, The (1984)\n",
      "1618    NeverEnding Story II: The Next Chapter, The (1...\n",
      "1799                        Santa Claus: The Movie (1985)\n",
      "3574    Harry Potter and the Sorcerer's Stone (a.k.a. ...\n",
      "6075    Chronicles of Narnia: The Lion, the Witch and ...\n",
      "Name: title, dtype: object\n"
     ]
    }
   ],
   "source": [
    "# Example usage\n",
    "print(get_recommendations('Jumanji (1995)'))"
   ]
  },
  {
   "cell_type": "markdown",
   "id": "207154a3",
   "metadata": {},
   "source": [
    "### Additional Comments and Explanation of Approach"
   ]
  },
  {
   "cell_type": "markdown",
   "id": "c24aca4e",
   "metadata": {},
   "source": [
    "To create a recommender system using the small MovieLens dataset, I followed a simple content-based filtering approach. This process involves:\n",
    "\n",
    "1. **Data Loading**: Loaded the dataset using Python. The small MovieLens dataset typically includes files for movies (with titles and genres) and ratings.\n",
    "\n",
    "2. **Preprocessing**: Prepared the data by merging movie titles with their ratings and extracting relevant features. For simplicity, I used movie genres as the primary feature.\n",
    "\n",
    "3. **Similarity Measure**: Compute a similarity score between movies. This was done using cosine similarity on the genres, where each genre is treated as a vector dimension.\n",
    "\n",
    "4. **Recommendations**: For a given movie input by the user, find the top 10 movies with the highest similarity scores (excluding the movie itself).\n",
    "\n",
    "5. **Output**: Present the recommended movies to the user.\n",
    "\n",
    "This method focuses on recommending movies similar in content (genre) to the user's input. It's a basic approach suitable for demonstrating the concept of recommender systems without diving into more complex methods like collaborative filtering or deep learning models."
   ]
  },
  {
   "cell_type": "markdown",
   "id": "5c18c764",
   "metadata": {},
   "source": [
    "### References:\n",
    "\n",
    "GroupLens Research. (2024). MovieLens Dataset. Retrieved from https://grouplens.org/datasets/movielens/"
   ]
  },
  {
   "cell_type": "code",
   "execution_count": null,
   "id": "dade2d92",
   "metadata": {},
   "outputs": [],
   "source": []
  }
 ],
 "metadata": {
  "kernelspec": {
   "display_name": "Python 3 (ipykernel)",
   "language": "python",
   "name": "python3"
  },
  "language_info": {
   "codemirror_mode": {
    "name": "ipython",
    "version": 3
   },
   "file_extension": ".py",
   "mimetype": "text/x-python",
   "name": "python",
   "nbconvert_exporter": "python",
   "pygments_lexer": "ipython3",
   "version": "3.10.9"
  }
 },
 "nbformat": 4,
 "nbformat_minor": 5
}
